{
 "cells": [
  {
   "cell_type": "code",
   "execution_count": 1,
   "id": "separate-corpus",
   "metadata": {
    "execution": {
     "iopub.execute_input": "2021-05-22T10:20:23.445115Z",
     "iopub.status.busy": "2021-05-22T10:20:23.443606Z",
     "iopub.status.idle": "2021-05-22T10:20:29.849031Z",
     "shell.execute_reply": "2021-05-22T10:20:29.848388Z",
     "shell.execute_reply.started": "2021-05-22T09:31:39.708405Z"
    },
    "papermill": {
     "duration": 6.440378,
     "end_time": "2021-05-22T10:20:29.849190",
     "exception": false,
     "start_time": "2021-05-22T10:20:23.408812",
     "status": "completed"
    },
    "tags": []
   },
   "outputs": [],
   "source": [
    "import numpy as np\n",
    "import pandas as pd\n",
    "from PIL import Image\n",
    "import os\n",
    "import matplotlib.pyplot as plt\n",
    "import seaborn as sns\n",
    "from tqdm import tqdm\n",
    "from sklearn.utils import shuffle\n",
    "from sklearn.utils import class_weight\n",
    "from sklearn.preprocessing import minmax_scale\n",
    "\n",
    "import random\n",
    "import cv2\n",
    "from imgaug import augmenters as iaa\n",
    "import warnings\n",
    "warnings.filterwarnings('ignore')\n",
    "\n",
    "\n",
    "import tensorflow as tf\n",
    "from tensorflow.keras.models import Sequential, Model\n",
    "from tensorflow.keras.preprocessing.image import ImageDataGenerator\n",
    "from tensorflow.keras.layers import Dense, Dropout, Activation, Input, BatchNormalization, GlobalAveragePooling2D\n",
    "from tensorflow.keras import layers\n",
    "from tensorflow.keras.callbacks import ModelCheckpoint, ReduceLROnPlateau, EarlyStopping\n",
    "from tensorflow.keras.experimental import CosineDecay\n",
    "from tensorflow.keras.utils import to_categorical\n",
    "from tensorflow.keras.applications import EfficientNetB3, ResNet50\n",
    "from tensorflow.keras.layers.experimental.preprocessing import RandomCrop,CenterCrop, RandomRotation"
   ]
  },
  {
   "cell_type": "code",
   "execution_count": 2,
   "id": "boolean-botswana",
   "metadata": {
    "execution": {
     "iopub.execute_input": "2021-05-22T10:20:29.924855Z",
     "iopub.status.busy": "2021-05-22T10:20:29.924226Z",
     "iopub.status.idle": "2021-05-22T10:20:29.944007Z",
     "shell.execute_reply": "2021-05-22T10:20:29.943558Z",
     "shell.execute_reply.started": "2021-05-22T09:31:40.011153Z"
    },
    "papermill": {
     "duration": 0.058892,
     "end_time": "2021-05-22T10:20:29.944124",
     "exception": false,
     "start_time": "2021-05-22T10:20:29.885232",
     "status": "completed"
    },
    "tags": []
   },
   "outputs": [],
   "source": [
    "label = pd.read_csv('../input/clothing-dataset-full/images.csv')"
   ]
  },
  {
   "cell_type": "code",
   "execution_count": 3,
   "id": "treated-group",
   "metadata": {
    "execution": {
     "iopub.execute_input": "2021-05-22T10:20:30.013653Z",
     "iopub.status.busy": "2021-05-22T10:20:30.013105Z",
     "iopub.status.idle": "2021-05-22T10:20:30.016791Z",
     "shell.execute_reply": "2021-05-22T10:20:30.017147Z",
     "shell.execute_reply.started": "2021-05-22T09:31:40.323880Z"
    },
    "papermill": {
     "duration": 0.042452,
     "end_time": "2021-05-22T10:20:30.017290",
     "exception": false,
     "start_time": "2021-05-22T10:20:29.974838",
     "status": "completed"
    },
    "tags": []
   },
   "outputs": [],
   "source": [
    "labels = list(label['label'].unique())"
   ]
  },
  {
   "cell_type": "code",
   "execution_count": 4,
   "id": "massive-timber",
   "metadata": {
    "execution": {
     "iopub.execute_input": "2021-05-22T10:20:30.085268Z",
     "iopub.status.busy": "2021-05-22T10:20:30.084673Z",
     "iopub.status.idle": "2021-05-22T10:20:30.088216Z",
     "shell.execute_reply": "2021-05-22T10:20:30.088616Z",
     "shell.execute_reply.started": "2021-05-22T09:31:41.598951Z"
    },
    "papermill": {
     "duration": 0.040607,
     "end_time": "2021-05-22T10:20:30.088755",
     "exception": false,
     "start_time": "2021-05-22T10:20:30.048148",
     "status": "completed"
    },
    "tags": []
   },
   "outputs": [
    {
     "data": {
      "text/plain": [
       "['Not sure',\n",
       " 'T-Shirt',\n",
       " 'Shoes',\n",
       " 'Shorts',\n",
       " 'Shirt',\n",
       " 'Pants',\n",
       " 'Skirt',\n",
       " 'Other',\n",
       " 'Top',\n",
       " 'Outwear',\n",
       " 'Dress',\n",
       " 'Body',\n",
       " 'Longsleeve',\n",
       " 'Undershirt',\n",
       " 'Hat',\n",
       " 'Polo',\n",
       " 'Blouse',\n",
       " 'Hoodie',\n",
       " 'Skip',\n",
       " 'Blazer']"
      ]
     },
     "execution_count": 4,
     "metadata": {},
     "output_type": "execute_result"
    }
   ],
   "source": [
    "labels"
   ]
  },
  {
   "cell_type": "code",
   "execution_count": 5,
   "id": "advisory-profile",
   "metadata": {
    "execution": {
     "iopub.execute_input": "2021-05-22T10:20:30.154456Z",
     "iopub.status.busy": "2021-05-22T10:20:30.153973Z",
     "iopub.status.idle": "2021-05-22T10:20:30.176985Z",
     "shell.execute_reply": "2021-05-22T10:20:30.176555Z",
     "shell.execute_reply.started": "2021-05-22T09:31:43.855373Z"
    },
    "papermill": {
     "duration": 0.057802,
     "end_time": "2021-05-22T10:20:30.177093",
     "exception": false,
     "start_time": "2021-05-22T10:20:30.119291",
     "status": "completed"
    },
    "tags": []
   },
   "outputs": [],
   "source": [
    "path = '../input/clothing-dataset-full/images_compressed/'\n",
    "y = pd.get_dummies(label['label'])\n",
    "x = pd.DataFrame()\n",
    "x['image_id'] = label['image'] + '.jpg'\n",
    "#x['label'] = label['label'] \n",
    "x['filepath'] = path+ label['image'] + '.jpg'"
   ]
  },
  {
   "cell_type": "code",
   "execution_count": 6,
   "id": "adjustable-navigator",
   "metadata": {
    "execution": {
     "iopub.execute_input": "2021-05-22T10:20:30.241434Z",
     "iopub.status.busy": "2021-05-22T10:20:30.240886Z",
     "iopub.status.idle": "2021-05-22T10:20:30.505192Z",
     "shell.execute_reply": "2021-05-22T10:20:30.504704Z",
     "shell.execute_reply.started": "2021-05-22T09:31:44.551129Z"
    },
    "papermill": {
     "duration": 0.29781,
     "end_time": "2021-05-22T10:20:30.505322",
     "exception": false,
     "start_time": "2021-05-22T10:20:30.207512",
     "status": "completed"
    },
    "tags": []
   },
   "outputs": [],
   "source": [
    "file_list = os.listdir('../input/clothing-dataset-full/images_compressed')"
   ]
  },
  {
   "cell_type": "code",
   "execution_count": 7,
   "id": "pointed-promotion",
   "metadata": {
    "execution": {
     "iopub.execute_input": "2021-05-22T10:20:30.571971Z",
     "iopub.status.busy": "2021-05-22T10:20:30.571284Z",
     "iopub.status.idle": "2021-05-22T10:20:30.574008Z",
     "shell.execute_reply": "2021-05-22T10:20:30.573596Z",
     "shell.execute_reply.started": "2021-05-22T09:31:45.825343Z"
    },
    "papermill": {
     "duration": 0.038535,
     "end_time": "2021-05-22T10:20:30.574106",
     "exception": false,
     "start_time": "2021-05-22T10:20:30.535571",
     "status": "completed"
    },
    "tags": []
   },
   "outputs": [],
   "source": [
    "x = list(x['filepath'].values)"
   ]
  },
  {
   "cell_type": "code",
   "execution_count": 8,
   "id": "interracial-projection",
   "metadata": {
    "execution": {
     "iopub.execute_input": "2021-05-22T10:20:30.661708Z",
     "iopub.status.busy": "2021-05-22T10:20:30.651320Z",
     "iopub.status.idle": "2021-05-22T10:20:30.860845Z",
     "shell.execute_reply": "2021-05-22T10:20:30.861198Z",
     "shell.execute_reply.started": "2021-05-22T09:31:47.164118Z"
    },
    "papermill": {
     "duration": 0.257397,
     "end_time": "2021-05-22T10:20:30.861332",
     "exception": false,
     "start_time": "2021-05-22T10:20:30.603935",
     "status": "completed"
    },
    "tags": []
   },
   "outputs": [],
   "source": [
    "for idx,tmp in enumerate(x):\n",
    "    if (tmp in file_list):\n",
    "        print('False in ' + str(idx))"
   ]
  },
  {
   "cell_type": "code",
   "execution_count": 9,
   "id": "subsequent-speech",
   "metadata": {
    "execution": {
     "iopub.execute_input": "2021-05-22T10:20:30.926271Z",
     "iopub.status.busy": "2021-05-22T10:20:30.925449Z",
     "iopub.status.idle": "2021-05-22T10:20:30.933989Z",
     "shell.execute_reply": "2021-05-22T10:20:30.934458Z",
     "shell.execute_reply.started": "2021-05-22T09:31:47.494862Z"
    },
    "papermill": {
     "duration": 0.043484,
     "end_time": "2021-05-22T10:20:30.934590",
     "exception": false,
     "start_time": "2021-05-22T10:20:30.891106",
     "status": "completed"
    },
    "tags": []
   },
   "outputs": [],
   "source": [
    "path = '../input/clothing-dataset-full/images_compressed/'\n",
    "y = pd.get_dummies(label['label'])\n",
    "x = pd.DataFrame()\n",
    "x['image_id'] = label['image'] + '.jpg'\n",
    "#x['label'] = label['label'] \n",
    "x['filepath'] = path+ label['image'] + '.jpg'"
   ]
  },
  {
   "cell_type": "code",
   "execution_count": 10,
   "id": "several-drilling",
   "metadata": {
    "execution": {
     "iopub.execute_input": "2021-05-22T10:20:30.999267Z",
     "iopub.status.busy": "2021-05-22T10:20:30.998572Z",
     "iopub.status.idle": "2021-05-22T10:20:31.001151Z",
     "shell.execute_reply": "2021-05-22T10:20:31.000662Z",
     "shell.execute_reply.started": "2021-05-22T09:31:50.924289Z"
    },
    "papermill": {
     "duration": 0.036797,
     "end_time": "2021-05-22T10:20:31.001248",
     "exception": false,
     "start_time": "2021-05-22T10:20:30.964451",
     "status": "completed"
    },
    "tags": []
   },
   "outputs": [],
   "source": [
    "x = list(x['filepath'].values)\n",
    "y = list(y.values)\n",
    "\n"
   ]
  },
  {
   "cell_type": "code",
   "execution_count": 11,
   "id": "charming-smooth",
   "metadata": {
    "execution": {
     "iopub.execute_input": "2021-05-22T10:20:31.065423Z",
     "iopub.status.busy": "2021-05-22T10:20:31.064751Z",
     "iopub.status.idle": "2021-05-22T10:20:31.067296Z",
     "shell.execute_reply": "2021-05-22T10:20:31.066918Z",
     "shell.execute_reply.started": "2021-05-22T09:31:51.742487Z"
    },
    "papermill": {
     "duration": 0.036433,
     "end_time": "2021-05-22T10:20:31.067395",
     "exception": false,
     "start_time": "2021-05-22T10:20:31.030962",
     "status": "completed"
    },
    "tags": []
   },
   "outputs": [],
   "source": [
    "delete = [533,702,859,1659,1759]\n",
    "for de in delete:\n",
    "    del y[de]\n",
    "    del x[de]\n",
    "    "
   ]
  },
  {
   "cell_type": "code",
   "execution_count": 12,
   "id": "another-niagara",
   "metadata": {
    "execution": {
     "iopub.execute_input": "2021-05-22T10:20:31.131389Z",
     "iopub.status.busy": "2021-05-22T10:20:31.130737Z",
     "iopub.status.idle": "2021-05-22T10:20:31.132956Z",
     "shell.execute_reply": "2021-05-22T10:20:31.133343Z",
     "shell.execute_reply.started": "2021-05-22T09:06:52.445617Z"
    },
    "papermill": {
     "duration": 0.035264,
     "end_time": "2021-05-22T10:20:31.133453",
     "exception": false,
     "start_time": "2021-05-22T10:20:31.098189",
     "status": "completed"
    },
    "tags": []
   },
   "outputs": [],
   "source": [
    "# batch_size = 32\n",
    "# training_data = tf.data.Dataset.from_tensor_slices((x,y))\n",
    "# #validation_data = tf.data.Dataset.from_tensor_slices((validation_df.filepath.values, validation_df.label.values))\n",
    "# def load_image_and_label_from_path(image_path, label):\n",
    "#     img = tf.io.read_file(image_path)\n",
    "#     img = tf.image.decode_jpeg(img, channels=3)\n",
    "#     img = layers.experimental.preprocessing.Rescaling(1.0 / 255)(img)\n",
    "#     return img, label\n",
    "\n",
    "\n",
    "# training_data = training_data.map(load_image_and_label_from_path)\n",
    "# # training_data_batches = training_data.shuffle(buffer_size=1000).batch(batch_size)"
   ]
  },
  {
   "cell_type": "code",
   "execution_count": 13,
   "id": "religious-librarian",
   "metadata": {
    "execution": {
     "iopub.execute_input": "2021-05-22T10:20:31.196795Z",
     "iopub.status.busy": "2021-05-22T10:20:31.196142Z",
     "iopub.status.idle": "2021-05-22T10:20:31.198948Z",
     "shell.execute_reply": "2021-05-22T10:20:31.198524Z",
     "shell.execute_reply.started": "2021-05-22T09:31:54.033231Z"
    },
    "papermill": {
     "duration": 0.035894,
     "end_time": "2021-05-22T10:20:31.199042",
     "exception": false,
     "start_time": "2021-05-22T10:20:31.163148",
     "status": "completed"
    },
    "tags": []
   },
   "outputs": [],
   "source": [
    "img_size = 224\n",
    "img_shape = (img_size,img_size,3)\n",
    "batch_size = 32\n",
    "epochs = 20\n",
    "dropout_rate = 0.5\n",
    "num_of_predict = len(y[0])\n",
    "len_data = 4000"
   ]
  },
  {
   "cell_type": "code",
   "execution_count": 14,
   "id": "worldwide-dealer",
   "metadata": {
    "execution": {
     "iopub.execute_input": "2021-05-22T10:20:31.263591Z",
     "iopub.status.busy": "2021-05-22T10:20:31.262973Z",
     "iopub.status.idle": "2021-05-22T10:21:28.584523Z",
     "shell.execute_reply": "2021-05-22T10:21:28.584966Z",
     "shell.execute_reply.started": "2021-05-22T09:31:54.725874Z"
    },
    "papermill": {
     "duration": 57.356333,
     "end_time": "2021-05-22T10:21:28.585148",
     "exception": false,
     "start_time": "2021-05-22T10:20:31.228815",
     "status": "completed"
    },
    "tags": []
   },
   "outputs": [],
   "source": [
    "train_img = []\n",
    "for idx,img in enumerate(x):\n",
    "    try:\n",
    "        tmp = cv2.imread(img\n",
    "                                    , cv2.IMREAD_COLOR)\n",
    "        tmp = cv2.resize(tmp,dsize=(img_size,img_size),\n",
    "                                interpolation=cv2.INTER_AREA)\n",
    "        train_img.append(tmp)\n",
    "    except Exception as e:\n",
    "        print(str(e)+str(idx))\n",
    "train_img = np.array(train_img)\n",
    "\n",
    "# delete = [533,702,859,1659,1759]\n",
    "# for de in delete:\n",
    "#     del y[de]"
   ]
  },
  {
   "cell_type": "code",
   "execution_count": 15,
   "id": "banner-sponsorship",
   "metadata": {
    "execution": {
     "iopub.execute_input": "2021-05-22T10:21:28.648637Z",
     "iopub.status.busy": "2021-05-22T10:21:28.648119Z",
     "iopub.status.idle": "2021-05-22T10:21:28.651640Z",
     "shell.execute_reply": "2021-05-22T10:21:28.652005Z",
     "shell.execute_reply.started": "2021-05-22T06:45:36.694797Z"
    },
    "papermill": {
     "duration": 0.036438,
     "end_time": "2021-05-22T10:21:28.652130",
     "exception": false,
     "start_time": "2021-05-22T10:21:28.615692",
     "status": "completed"
    },
    "tags": []
   },
   "outputs": [],
   "source": [
    "# delete = [533,702,859,1659,1759]\n",
    "# for de in delete:\n",
    "#     del y[de]"
   ]
  },
  {
   "cell_type": "code",
   "execution_count": 16,
   "id": "subtle-contest",
   "metadata": {
    "execution": {
     "iopub.execute_input": "2021-05-22T10:21:28.717179Z",
     "iopub.status.busy": "2021-05-22T10:21:28.716012Z",
     "iopub.status.idle": "2021-05-22T10:21:28.719522Z",
     "shell.execute_reply": "2021-05-22T10:21:28.720094Z",
     "shell.execute_reply.started": "2021-05-22T09:35:48.461908Z"
    },
    "papermill": {
     "duration": 0.038393,
     "end_time": "2021-05-22T10:21:28.720255",
     "exception": false,
     "start_time": "2021-05-22T10:21:28.681862",
     "status": "completed"
    },
    "tags": []
   },
   "outputs": [
    {
     "name": "stdout",
     "output_type": "stream",
     "text": [
      "5398 5398\n"
     ]
    }
   ],
   "source": [
    "print(len(train_img),len(y))"
   ]
  },
  {
   "cell_type": "code",
   "execution_count": 17,
   "id": "played-directory",
   "metadata": {
    "execution": {
     "iopub.execute_input": "2021-05-22T10:21:28.785261Z",
     "iopub.status.busy": "2021-05-22T10:21:28.784339Z",
     "iopub.status.idle": "2021-05-22T10:21:31.017706Z",
     "shell.execute_reply": "2021-05-22T10:21:31.017230Z",
     "shell.execute_reply.started": "2021-05-22T09:35:49.494865Z"
    },
    "papermill": {
     "duration": 2.266529,
     "end_time": "2021-05-22T10:21:31.017842",
     "exception": false,
     "start_time": "2021-05-22T10:21:28.751313",
     "status": "completed"
    },
    "tags": []
   },
   "outputs": [],
   "source": [
    "train_img = np.array(train_img)/255.\n",
    "y = np.array(y)"
   ]
  },
  {
   "cell_type": "code",
   "execution_count": 18,
   "id": "aquatic-invitation",
   "metadata": {
    "execution": {
     "iopub.execute_input": "2021-05-22T10:21:31.090577Z",
     "iopub.status.busy": "2021-05-22T10:21:31.088956Z",
     "iopub.status.idle": "2021-05-22T10:21:31.091296Z",
     "shell.execute_reply": "2021-05-22T10:21:31.091727Z",
     "shell.execute_reply.started": "2021-05-22T09:35:54.803496Z"
    },
    "papermill": {
     "duration": 0.04066,
     "end_time": "2021-05-22T10:21:31.091864",
     "exception": false,
     "start_time": "2021-05-22T10:21:31.051204",
     "status": "completed"
    },
    "tags": []
   },
   "outputs": [],
   "source": [
    "train_x = train_img[:4000]\n",
    "val_x = train_img[4000:]\n",
    "train_y = y[:4000]\n",
    "val_y = y[4000:]"
   ]
  },
  {
   "cell_type": "code",
   "execution_count": 19,
   "id": "treated-toolbox",
   "metadata": {
    "execution": {
     "iopub.execute_input": "2021-05-22T10:21:31.160236Z",
     "iopub.status.busy": "2021-05-22T10:21:31.159037Z",
     "iopub.status.idle": "2021-05-22T10:21:31.161827Z",
     "shell.execute_reply": "2021-05-22T10:21:31.161416Z",
     "shell.execute_reply.started": "2021-05-22T09:35:55.760800Z"
    },
    "papermill": {
     "duration": 0.037999,
     "end_time": "2021-05-22T10:21:31.161931",
     "exception": false,
     "start_time": "2021-05-22T10:21:31.123932",
     "status": "completed"
    },
    "tags": []
   },
   "outputs": [],
   "source": [
    "del train_img\n",
    "del y"
   ]
  },
  {
   "cell_type": "code",
   "execution_count": 20,
   "id": "defensive-wallpaper",
   "metadata": {
    "execution": {
     "iopub.execute_input": "2021-05-22T10:21:31.227249Z",
     "iopub.status.busy": "2021-05-22T10:21:31.226619Z",
     "iopub.status.idle": "2021-05-22T10:21:31.230607Z",
     "shell.execute_reply": "2021-05-22T10:21:31.230089Z",
     "shell.execute_reply.started": "2021-05-22T05:59:43.375264Z"
    },
    "papermill": {
     "duration": 0.03712,
     "end_time": "2021-05-22T10:21:31.230717",
     "exception": false,
     "start_time": "2021-05-22T10:21:31.193597",
     "status": "completed"
    },
    "tags": []
   },
   "outputs": [],
   "source": [
    "# ResNet50 = ResNet50(\n",
    "#         include_top=False, weights='imagenet',\n",
    "#         input_shape=img_shape, classes=13\n",
    "#     )\n",
    "\n",
    "# inputs = Input(shape=img_shape)\n",
    "# ResNet50 = ResNet50(inputs) \n",
    "# pooling = layers.GlobalAveragePooling2D()(ResNet50) \n",
    "# dropout = layers.Dropout(dropout_rate)(pooling) #dropout\n",
    "# outputs = Dense(len(y[0]), activation=\"softmax\")(dropout)\n",
    "# model = Model(inputs=inputs, outputs=outputs)"
   ]
  },
  {
   "cell_type": "code",
   "execution_count": 21,
   "id": "eligible-chamber",
   "metadata": {
    "execution": {
     "iopub.execute_input": "2021-05-22T10:21:31.295813Z",
     "iopub.status.busy": "2021-05-22T10:21:31.295141Z",
     "iopub.status.idle": "2021-05-22T10:21:33.338929Z",
     "shell.execute_reply": "2021-05-22T10:21:33.338008Z",
     "shell.execute_reply.started": "2021-05-22T06:46:50.450233Z"
    },
    "papermill": {
     "duration": 2.078188,
     "end_time": "2021-05-22T10:21:33.339076",
     "exception": false,
     "start_time": "2021-05-22T10:21:31.260888",
     "status": "completed"
    },
    "tags": []
   },
   "outputs": [],
   "source": [
    "data_augmentation_layers = tf.keras.Sequential(\n",
    "    [\n",
    "        layers.experimental.preprocessing.RandomCrop(height=img_size, width=img_size),\n",
    "        layers.experimental.preprocessing.RandomFlip(\"horizontal_and_vertical\"),\n",
    "        layers.experimental.preprocessing.RandomRotation(0.25),\n",
    "        layers.experimental.preprocessing.RandomZoom((-0.2, 0)),\n",
    "        layers.experimental.preprocessing.RandomContrast((0.2,0.2))\n",
    "    ]\n",
    ")"
   ]
  },
  {
   "cell_type": "code",
   "execution_count": 22,
   "id": "incorrect-laugh",
   "metadata": {
    "execution": {
     "iopub.execute_input": "2021-05-22T10:21:33.405473Z",
     "iopub.status.busy": "2021-05-22T10:21:33.404927Z",
     "iopub.status.idle": "2021-05-22T10:21:37.575064Z",
     "shell.execute_reply": "2021-05-22T10:21:37.574362Z",
     "shell.execute_reply.started": "2021-05-22T09:35:59.592210Z"
    },
    "papermill": {
     "duration": 4.205206,
     "end_time": "2021-05-22T10:21:37.575211",
     "exception": false,
     "start_time": "2021-05-22T10:21:33.370005",
     "status": "completed"
    },
    "tags": []
   },
   "outputs": [],
   "source": [
    "efficientnet = EfficientNetB3(weights=\"../input/keras-efficientnetb3-no-top-weights/efficientnetb3_notop.h5\",\n",
    "                              include_top=False, \n",
    "                              input_shape=img_shape, \n",
    "                              drop_connect_rate=dropout_rate)\n",
    "\n",
    "inputs = Input(shape=img_shape)\n",
    "#augmented = data_augmentation_layers(inputs) #Augmentation\n",
    "efficientnet = efficientnet(inputs) #efficientnet\n",
    "pooling = layers.GlobalAveragePooling2D()(efficientnet) #globalaveragepooling\n",
    "dropout = layers.Dropout(dropout_rate)(pooling) #dropout\n",
    "outputs = Dense(len(val_y[0]), activation=\"softmax\")(dropout)\n",
    "model2 = Model(inputs=inputs, outputs=outputs)"
   ]
  },
  {
   "cell_type": "code",
   "execution_count": 23,
   "id": "dominican-roman",
   "metadata": {
    "execution": {
     "iopub.execute_input": "2021-05-22T10:21:37.651890Z",
     "iopub.status.busy": "2021-05-22T10:21:37.651077Z",
     "iopub.status.idle": "2021-05-22T10:21:37.659108Z",
     "shell.execute_reply": "2021-05-22T10:21:37.659515Z",
     "shell.execute_reply.started": "2021-05-22T09:39:15.715028Z"
    },
    "papermill": {
     "duration": 0.053277,
     "end_time": "2021-05-22T10:21:37.659651",
     "exception": false,
     "start_time": "2021-05-22T10:21:37.606374",
     "status": "completed"
    },
    "tags": []
   },
   "outputs": [],
   "source": [
    "decay_steps = int(round(4000*0.8/batch_size))*epochs\n",
    "cosine_decay = CosineDecay(initial_learning_rate=3e-5, decay_steps=decay_steps, alpha=0.3)\n",
    "\n",
    "model2.compile(loss=tf.keras.losses.CategoricalCrossentropy(), optimizer=tf.keras.optimizers.Adam(cosine_decay), metrics=[\"accuracy\"])"
   ]
  },
  {
   "cell_type": "code",
   "execution_count": 24,
   "id": "seven-lightning",
   "metadata": {
    "execution": {
     "iopub.execute_input": "2021-05-22T10:21:37.902786Z",
     "iopub.status.busy": "2021-05-22T10:21:37.901665Z",
     "iopub.status.idle": "2021-05-22T10:21:37.924414Z",
     "shell.execute_reply": "2021-05-22T10:21:37.923926Z",
     "shell.execute_reply.started": "2021-05-22T09:39:19.707231Z"
    },
    "papermill": {
     "duration": 0.234732,
     "end_time": "2021-05-22T10:21:37.924569",
     "exception": false,
     "start_time": "2021-05-22T10:21:37.689837",
     "status": "completed"
    },
    "tags": []
   },
   "outputs": [
    {
     "name": "stdout",
     "output_type": "stream",
     "text": [
      "Model: \"model\"\n",
      "_________________________________________________________________\n",
      "Layer (type)                 Output Shape              Param #   \n",
      "=================================================================\n",
      "input_2 (InputLayer)         [(None, 224, 224, 3)]     0         \n",
      "_________________________________________________________________\n",
      "efficientnetb3 (Functional)  (None, 7, 7, 1536)        10783535  \n",
      "_________________________________________________________________\n",
      "global_average_pooling2d (Gl (None, 1536)              0         \n",
      "_________________________________________________________________\n",
      "dropout (Dropout)            (None, 1536)              0         \n",
      "_________________________________________________________________\n",
      "dense (Dense)                (None, 20)                30740     \n",
      "=================================================================\n",
      "Total params: 10,814,275\n",
      "Trainable params: 10,726,972\n",
      "Non-trainable params: 87,303\n",
      "_________________________________________________________________\n"
     ]
    }
   ],
   "source": [
    "model2.summary()"
   ]
  },
  {
   "cell_type": "code",
   "execution_count": 25,
   "id": "acknowledged-vermont",
   "metadata": {
    "execution": {
     "iopub.execute_input": "2021-05-22T10:21:37.989340Z",
     "iopub.status.busy": "2021-05-22T10:21:37.988843Z",
     "iopub.status.idle": "2021-05-22T10:21:37.992567Z",
     "shell.execute_reply": "2021-05-22T10:21:37.992156Z",
     "shell.execute_reply.started": "2021-05-22T06:41:05.072267Z"
    },
    "papermill": {
     "duration": 0.036999,
     "end_time": "2021-05-22T10:21:37.992669",
     "exception": false,
     "start_time": "2021-05-22T10:21:37.955670",
     "status": "completed"
    },
    "tags": []
   },
   "outputs": [],
   "source": [
    "# history = model2.fit(training_data,batch_size=32,\n",
    "#                   epochs = 1 )"
   ]
  },
  {
   "cell_type": "code",
   "execution_count": 26,
   "id": "bored-webster",
   "metadata": {
    "execution": {
     "iopub.execute_input": "2021-05-22T10:21:38.059577Z",
     "iopub.status.busy": "2021-05-22T10:21:38.059080Z",
     "iopub.status.idle": "2021-05-22T10:43:40.401912Z",
     "shell.execute_reply": "2021-05-22T10:43:40.402314Z",
     "shell.execute_reply.started": "2021-05-22T09:39:33.066554Z"
    },
    "papermill": {
     "duration": 1322.379371,
     "end_time": "2021-05-22T10:43:40.402470",
     "exception": false,
     "start_time": "2021-05-22T10:21:38.023099",
     "status": "completed"
    },
    "tags": []
   },
   "outputs": [
    {
     "name": "stdout",
     "output_type": "stream",
     "text": [
      "Epoch 1/25\n",
      "125/125 [==============================] - 71s 446ms/step - loss: 3.0090 - accuracy: 0.0916 - val_loss: 3.0050 - val_accuracy: 0.0050\n",
      "Epoch 2/25\n",
      "125/125 [==============================] - 52s 418ms/step - loss: 2.4288 - accuracy: 0.3581 - val_loss: 2.9355 - val_accuracy: 0.1381\n",
      "Epoch 3/25\n",
      "125/125 [==============================] - 52s 417ms/step - loss: 1.9345 - accuracy: 0.4873 - val_loss: 2.4222 - val_accuracy: 0.3748\n",
      "Epoch 4/25\n",
      "125/125 [==============================] - 52s 418ms/step - loss: 1.6157 - accuracy: 0.5579 - val_loss: 2.1797 - val_accuracy: 0.4428\n",
      "Epoch 5/25\n",
      "125/125 [==============================] - 52s 413ms/step - loss: 1.3637 - accuracy: 0.6389 - val_loss: 1.3846 - val_accuracy: 0.6209\n",
      "Epoch 6/25\n",
      "125/125 [==============================] - 52s 416ms/step - loss: 1.2001 - accuracy: 0.6768 - val_loss: 1.0518 - val_accuracy: 0.7003\n",
      "Epoch 7/25\n",
      "125/125 [==============================] - 52s 418ms/step - loss: 1.0574 - accuracy: 0.7194 - val_loss: 0.9218 - val_accuracy: 0.7375\n",
      "Epoch 8/25\n",
      "125/125 [==============================] - 52s 415ms/step - loss: 0.9481 - accuracy: 0.7359 - val_loss: 0.9651 - val_accuracy: 0.7146\n",
      "Epoch 9/25\n",
      "125/125 [==============================] - 52s 418ms/step - loss: 0.8831 - accuracy: 0.7535 - val_loss: 0.8960 - val_accuracy: 0.7368\n",
      "Epoch 10/25\n",
      "125/125 [==============================] - 52s 417ms/step - loss: 0.8186 - accuracy: 0.7742 - val_loss: 0.8146 - val_accuracy: 0.7582\n",
      "Epoch 11/25\n",
      "125/125 [==============================] - 52s 418ms/step - loss: 0.7732 - accuracy: 0.7737 - val_loss: 0.7584 - val_accuracy: 0.7718\n",
      "Epoch 12/25\n",
      "125/125 [==============================] - 52s 416ms/step - loss: 0.7452 - accuracy: 0.7887 - val_loss: 0.7343 - val_accuracy: 0.7704\n",
      "Epoch 13/25\n",
      "125/125 [==============================] - 51s 409ms/step - loss: 0.6877 - accuracy: 0.8040 - val_loss: 0.6935 - val_accuracy: 0.7976\n",
      "Epoch 14/25\n",
      "125/125 [==============================] - 52s 417ms/step - loss: 0.6602 - accuracy: 0.8107 - val_loss: 0.6842 - val_accuracy: 0.7961\n",
      "Epoch 15/25\n",
      "125/125 [==============================] - 52s 419ms/step - loss: 0.6616 - accuracy: 0.8032 - val_loss: 0.6608 - val_accuracy: 0.8054\n",
      "Epoch 16/25\n",
      "125/125 [==============================] - 52s 416ms/step - loss: 0.6295 - accuracy: 0.8157 - val_loss: 0.6534 - val_accuracy: 0.8104\n",
      "Epoch 17/25\n",
      "125/125 [==============================] - 52s 419ms/step - loss: 0.5788 - accuracy: 0.8347 - val_loss: 0.6797 - val_accuracy: 0.7990\n",
      "Epoch 18/25\n",
      "125/125 [==============================] - 52s 419ms/step - loss: 0.5657 - accuracy: 0.8450 - val_loss: 0.6364 - val_accuracy: 0.8126\n",
      "Epoch 19/25\n",
      "125/125 [==============================] - 52s 413ms/step - loss: 0.5575 - accuracy: 0.8383 - val_loss: 0.6680 - val_accuracy: 0.8011\n",
      "Epoch 20/25\n",
      "125/125 [==============================] - 52s 417ms/step - loss: 0.5420 - accuracy: 0.8468 - val_loss: 0.6312 - val_accuracy: 0.8076\n",
      "Epoch 21/25\n",
      "125/125 [==============================] - 52s 419ms/step - loss: 0.5199 - accuracy: 0.8457 - val_loss: 0.6181 - val_accuracy: 0.8097\n",
      "Epoch 22/25\n",
      "125/125 [==============================] - 51s 411ms/step - loss: 0.5104 - accuracy: 0.8533 - val_loss: 0.6062 - val_accuracy: 0.8219\n",
      "Epoch 23/25\n",
      "125/125 [==============================] - 52s 417ms/step - loss: 0.4967 - accuracy: 0.8593 - val_loss: 0.6120 - val_accuracy: 0.8212\n",
      "Epoch 24/25\n",
      "125/125 [==============================] - 52s 418ms/step - loss: 0.4833 - accuracy: 0.8599 - val_loss: 0.6114 - val_accuracy: 0.8140\n",
      "Epoch 25/25\n",
      "125/125 [==============================] - 52s 415ms/step - loss: 0.4799 - accuracy: 0.8602 - val_loss: 0.6171 - val_accuracy: 0.8205\n"
     ]
    }
   ],
   "source": [
    "history = model2.fit(train_x,train_y, batch_size=batch_size,\n",
    "                   epochs = 25,\n",
    "                   validation_data=(val_x, val_y))"
   ]
  },
  {
   "cell_type": "code",
   "execution_count": 27,
   "id": "expected-chicken",
   "metadata": {
    "execution": {
     "iopub.execute_input": "2021-05-22T10:43:42.039066Z",
     "iopub.status.busy": "2021-05-22T10:43:42.038080Z",
     "iopub.status.idle": "2021-05-22T10:43:46.894049Z",
     "shell.execute_reply": "2021-05-22T10:43:46.893597Z",
     "shell.execute_reply.started": "2021-05-22T10:13:37.282538Z"
    },
    "papermill": {
     "duration": 5.675833,
     "end_time": "2021-05-22T10:43:46.894176",
     "exception": false,
     "start_time": "2021-05-22T10:43:41.218343",
     "status": "completed"
    },
    "tags": []
   },
   "outputs": [
    {
     "name": "stdout",
     "output_type": "stream",
     "text": [
      "44/44 [==============================] - 3s 73ms/step - loss: 0.6171 - accuracy: 0.8205\n"
     ]
    },
    {
     "data": {
      "text/plain": [
       "[0.617077648639679, 0.8204578161239624]"
      ]
     },
     "execution_count": 27,
     "metadata": {},
     "output_type": "execute_result"
    }
   ],
   "source": [
    "model2.evaluate(x=val_x,y= val_y)"
   ]
  },
  {
   "cell_type": "code",
   "execution_count": 28,
   "id": "blessed-pepper",
   "metadata": {
    "execution": {
     "iopub.execute_input": "2021-05-22T10:43:48.888935Z",
     "iopub.status.busy": "2021-05-22T10:43:48.888158Z",
     "iopub.status.idle": "2021-05-22T10:43:50.042630Z",
     "shell.execute_reply": "2021-05-22T10:43:50.041649Z",
     "shell.execute_reply.started": "2021-05-22T10:13:45.734919Z"
    },
    "papermill": {
     "duration": 2.313218,
     "end_time": "2021-05-22T10:43:50.042783",
     "exception": false,
     "start_time": "2021-05-22T10:43:47.729565",
     "status": "completed"
    },
    "tags": []
   },
   "outputs": [],
   "source": [
    "model2.save('eff_final.h5')"
   ]
  },
  {
   "cell_type": "markdown",
   "id": "combined-gross",
   "metadata": {
    "papermill": {
     "duration": 0.881265,
     "end_time": "2021-05-22T10:43:51.759191",
     "exception": false,
     "start_time": "2021-05-22T10:43:50.877926",
     "status": "completed"
    },
    "tags": []
   },
   "source": [
    "from PIL import Image\n",
    "import matplotlib.pyplot as plt\n",
    "%matplotlib inline\n",
    "\n",
    "image = Image.open(tmp.iloc[0]['filepath'])\n",
    "plt.imshow(image)\n",
    "plt.show()"
   ]
  },
  {
   "cell_type": "code",
   "execution_count": 29,
   "id": "duplicate-appendix",
   "metadata": {
    "execution": {
     "iopub.execute_input": "2021-05-22T10:43:53.432944Z",
     "iopub.status.busy": "2021-05-22T10:43:53.432307Z",
     "iopub.status.idle": "2021-05-22T10:43:53.436141Z",
     "shell.execute_reply": "2021-05-22T10:43:53.435667Z",
     "shell.execute_reply.started": "2021-05-22T10:13:54.419297Z"
    },
    "papermill": {
     "duration": 0.848169,
     "end_time": "2021-05-22T10:43:53.436259",
     "exception": false,
     "start_time": "2021-05-22T10:43:52.588090",
     "status": "completed"
    },
    "tags": []
   },
   "outputs": [],
   "source": [
    "import matplotlib.pyplot as plt\n",
    "%matplotlib inline"
   ]
  },
  {
   "cell_type": "code",
   "execution_count": 30,
   "id": "leading-procedure",
   "metadata": {
    "execution": {
     "iopub.execute_input": "2021-05-22T10:43:55.356569Z",
     "iopub.status.busy": "2021-05-22T10:43:55.355901Z",
     "iopub.status.idle": "2021-05-22T10:43:55.512821Z",
     "shell.execute_reply": "2021-05-22T10:43:55.513213Z",
     "shell.execute_reply.started": "2021-05-22T10:18:13.037761Z"
    },
    "papermill": {
     "duration": 1.063985,
     "end_time": "2021-05-22T10:43:55.513363",
     "exception": false,
     "start_time": "2021-05-22T10:43:54.449378",
     "status": "completed"
    },
    "tags": []
   },
   "outputs": [
    {
     "data": {
      "text/plain": [
       "<function matplotlib.pyplot.show(close=None, block=None)>"
      ]
     },
     "execution_count": 30,
     "metadata": {},
     "output_type": "execute_result"
    },
    {
     "data": {
      "image/png": "[encoded data removed]",
      "text/plain": [
       "<Figure size 432x288 with 1 Axes>"
      ]
     },
     "metadata": {
      "needs_background": "light"
     },
     "output_type": "display_data"
    }
   ],
   "source": [
    "tt =list(range(len(history.history['loss'])))\n",
    "plt.plot(tt,history.history['loss'])\n",
    "plt.plot(tt,history.history['val_loss'])\n",
    "plt.title('loss')\n",
    "plt.show"
   ]
  },
  {
   "cell_type": "code",
   "execution_count": 31,
   "id": "cloudy-mystery",
   "metadata": {
    "execution": {
     "iopub.execute_input": "2021-05-22T10:43:57.202255Z",
     "iopub.status.busy": "2021-05-22T10:43:57.200850Z",
     "iopub.status.idle": "2021-05-22T10:43:57.289043Z",
     "shell.execute_reply": "2021-05-22T10:43:57.288585Z",
     "shell.execute_reply.started": "2021-05-22T10:18:16.363083Z"
    },
    "papermill": {
     "duration": 0.945695,
     "end_time": "2021-05-22T10:43:57.289156",
     "exception": false,
     "start_time": "2021-05-22T10:43:56.343461",
     "status": "completed"
    },
    "tags": []
   },
   "outputs": [
    {
     "data": {
      "text/plain": [
       "<function matplotlib.pyplot.show(close=None, block=None)>"
      ]
     },
     "execution_count": 31,
     "metadata": {},
     "output_type": "execute_result"
    },
    {
     "data": {
      "image/png": "[encoded data removed]",
      "text/plain": [
       "<Figure size 432x288 with 1 Axes>"
      ]
     },
     "metadata": {
      "needs_background": "light"
     },
     "output_type": "display_data"
    }
   ],
   "source": [
    "plt.plot(tt,history.history['accuracy'])\n",
    "plt.plot(tt,history.history['val_accuracy'])\n",
    "plt.title('accuracy')\n",
    "plt.show"
   ]
  }
 ],
 "metadata": {
  "kernelspec": {
   "display_name": "Python 3",
   "language": "python",
   "name": "python3"
  },
  "language_info": {
   "codemirror_mode": {
    "name": "ipython",
    "version": 3
   },
   "file_extension": ".py",
   "mimetype": "text/x-python",
   "name": "python",
   "nbconvert_exporter": "python",
   "pygments_lexer": "ipython3",
   "version": "3.8.8"
  },
  "papermill": {
   "default_parameters": {},
   "duration": 1452.69354,
   "end_time": "2021-05-22T10:44:29.580506",
   "environment_variables": {},
   "exception": null,
   "input_path": "__notebook__.ipynb",
   "output_path": "__notebook__.ipynb",
   "parameters": {},
   "start_time": "2021-05-22T10:20:16.886966",
   "version": "2.3.3"
  },
  "toc": {
   "base_numbering": 1,
   "nav_menu": {},
   "number_sections": true,
   "sideBar": true,
   "skip_h1_title": false,
   "title_cell": "Table of Contents",
   "title_sidebar": "Contents",
   "toc_cell": false,
   "toc_position": {},
   "toc_section_display": true,
   "toc_window_display": false
  },
  "varInspector": {
   "cols": {
    "lenName": 16,
    "lenType": 16,
    "lenVar": 40
   },
   "kernels_config": {
    "python": {
     "delete_cmd_postfix": "",
     "delete_cmd_prefix": "del ",
     "library": "var_list.py",
     "varRefreshCmd": "print(var_dic_list())"
    },
    "r": {
     "delete_cmd_postfix": ") ",
     "delete_cmd_prefix": "rm(",
     "library": "var_list.r",
     "varRefreshCmd": "cat(var_dic_list()) "
    }
   },
   "types_to_exclude": [
    "module",
    "function",
    "builtin_function_or_method",
    "instance",
    "_Feature"
   ],
   "window_display": false
  }
 },
 "nbformat": 4,
 "nbformat_minor": 5
}
